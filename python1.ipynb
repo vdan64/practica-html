{
 "cells": [
  {
   "cell_type": "code",
   "execution_count": 2,
   "metadata": {},
   "outputs": [
    {
     "data": {
      "text/plain": [
       "34"
      ]
     },
     "execution_count": 2,
     "metadata": {},
     "output_type": "execute_result"
    }
   ],
   "source": [
    "# operaciones matematicas basicas\n",
    "#suma \n",
    "2+23\n",
    "#resta\n",
    "90-56"
   ]
  },
  {
   "cell_type": "code",
   "execution_count": 3,
   "metadata": {},
   "outputs": [
    {
     "data": {
      "text/plain": [
       "68"
      ]
     },
     "execution_count": 3,
     "metadata": {},
     "output_type": "execute_result"
    }
   ],
   "source": [
    "#multiplicacion\n",
    "34*2"
   ]
  },
  {
   "cell_type": "code",
   "execution_count": 4,
   "metadata": {},
   "outputs": [
    {
     "data": {
      "text/plain": [
       "-5"
      ]
     },
     "execution_count": 4,
     "metadata": {},
     "output_type": "execute_result"
    }
   ],
   "source": [
    "(2 + 2) - 3 * (2 + 1 ) "
   ]
  },
  {
   "cell_type": "code",
   "execution_count": 6,
   "metadata": {},
   "outputs": [
    {
     "name": "stdout",
     "output_type": "stream",
     "text": [
      "5\n"
     ]
    }
   ],
   "source": [
    "# variables\n",
    "number_a = 2\n",
    "number_b = 3\n",
    "result = number_a + number_b\n",
    "\n",
    "print(result)"
   ]
  },
  {
   "cell_type": "markdown",
   "metadata": {},
   "source": [
    "### estructura de control\n",
    "* condicionales \n",
    "    - simples\n",
    "    - anidados\n",
    "    - encadenados\n",
    "* ciclos finitos \n",
    "* ciclos infinitos\n",
    "* funciones"
   ]
  },
  {
   "cell_type": "code",
   "execution_count": 7,
   "metadata": {},
   "outputs": [
    {
     "name": "stdout",
     "output_type": "stream",
     "text": [
      "El numero a es mayor a 1\n"
     ]
    }
   ],
   "source": [
    "# condicionales\n",
    "if number_a > 1:\n",
    "    print(\"El numero a es mayor a 1\")\n"
   ]
  },
  {
   "cell_type": "code",
   "execution_count": 9,
   "metadata": {},
   "outputs": [
    {
     "name": "stdout",
     "output_type": "stream",
     "text": [
      "El numero 2 es mayor que 1\n"
     ]
    }
   ],
   "source": [
    "# condicionales\n",
    "if number_a > 1:\n",
    "    print(f\"El numero {number_a} es mayor que 1\")\n"
   ]
  },
  {
   "cell_type": "code",
   "execution_count": 10,
   "metadata": {},
   "outputs": [],
   "source": [
    "number_a = 0"
   ]
  },
  {
   "cell_type": "code",
   "execution_count": 17,
   "metadata": {},
   "outputs": [
    {
     "name": "stdout",
     "output_type": "stream",
     "text": [
      "El numero 0 es menor que 1\n"
     ]
    }
   ],
   "source": [
    "# condicionales\n",
    "if number_a > 1:\n",
    "    print(f\"El numero {number_a} es mayor que 1\") \n",
    "\n",
    "else:\n",
    "    print(f\"El numero {number_a} es menor que 1\")"
   ]
  },
  {
   "cell_type": "code",
   "execution_count": 21,
   "metadata": {},
   "outputs": [
    {
     "name": "stdout",
     "output_type": "stream",
     "text": [
      "victor\n",
      "son menos de la 08:00 PM\n"
     ]
    }
   ],
   "source": [
    "name = input(\"ingrese su nombre: \")\n",
    "print(name)\n",
    "\n",
    "week_day = input(\" ingrese el dia de la semana: \")\n",
    "if week_day == \"viernes\":\n",
    "    hour = input(\"ingrese la hora: \")\n",
    "    hour = int(hour)\n",
    "\n",
    "    if hour >= 20:\n",
    "        age = int(input(\"ingrese su edad:\"))\n",
    "\n",
    "        if age >= 18:\n",
    "            print(\"es viernes y son mas de las 08:00 pm y eres mayor de edad\")\n",
    "        else:\n",
    "            print(\"eres menor de edad\")\n",
    "    else:\n",
    "        print(\"son menos de la 08:00 PM\")\n",
    "else:\n",
    "    print(\"cerrado Abre viernes y sabado\")\n",
    "        \n",
    "\n",
    "    "
   ]
  },
  {
   "cell_type": "code",
   "execution_count": null,
   "metadata": {},
   "outputs": [],
   "source": [
    "name = input(\"ingrese su nombre: \")\n",
    "print(name)\n",
    "\n",
    "week_day = input(\" ingrese el dia de la semana: \")\n",
    "if week_day == \"viernes\" or week_day == \"sabado\":\n",
    "    hour = input(\"ingrese la hora: \")\n",
    "    hour = int(hour)\n",
    "\n",
    "    if hour >= 20:\n",
    "        age = int(input(\"ingrese su edad:\"))\n",
    "\n",
    "        if age >= 18:\n",
    "            print(f\"es {week_day} y son  las {hour} pm y tu edad es {age}\")\n",
    "        else:\n",
    "            print(\"eres menor de edad\")\n",
    "    else:\n",
    "        print(\"son menos de la 08:00 PM\")\n",
    "else:\n",
    "    print(\"cerrado Abre viernes y sabado\")\n",
    "\n"
   ]
  },
  {
   "cell_type": "code",
   "execution_count": 22,
   "metadata": {},
   "outputs": [
    {
     "name": "stdout",
     "output_type": "stream",
     "text": [
      "hoy es viernes\n"
     ]
    }
   ],
   "source": [
    "week_day = input(\"ingrese el dia de la semana: \")\n",
    "\n",
    "if week_day == \"lunes\":\n",
    "    print(f\"hoy es {week_day}\")\n",
    "elif week_day == \"martes\":\n",
    "    print(f\"hoy es {week_day}\")\n",
    "elif week_day == \"miercoles\":\n",
    "    print(f\"hoy es {week_day}\")\n",
    "elif week_day == \"jueves\":\n",
    "    print(f\"hoy es {week_day}\")\n",
    "elif week_day == \"viernes\":\n",
    "    print(f\"hoy es {week_day}\")\n",
    "\n",
    "else:\n",
    "    print(\"es fin de semana\")"
   ]
  },
  {
   "cell_type": "markdown",
   "metadata": {},
   "source": [
    "# clase 1 de python\n",
    "### variables fundamentos\n",
    "* Variables\n",
    "* Sintaxis basica\n",
    "* Condicionales\n",
    "* operaciones logicas"
   ]
  }
 ],
 "metadata": {
  "kernelspec": {
   "display_name": "Python 3",
   "language": "python",
   "name": "python3"
  },
  "language_info": {
   "codemirror_mode": {
    "name": "ipython",
    "version": 3
   },
   "file_extension": ".py",
   "mimetype": "text/x-python",
   "name": "python",
   "nbconvert_exporter": "python",
   "pygments_lexer": "ipython3",
   "version": "3.12.1"
  }
 },
 "nbformat": 4,
 "nbformat_minor": 2
}
